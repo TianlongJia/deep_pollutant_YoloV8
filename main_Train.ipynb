{
 "cells": [
  {
   "attachments": {},
   "cell_type": "markdown",
   "metadata": {},
   "source": [
    "# Model training (YoloV8)\n",
    "\n",
    "Refer to:\n",
    "https://github.com/ultralytics/ultralytics\n",
    "\n",
    "https://blog.roboflow.com/how-to-train-yolov8-on-a-custom-dataset/#how-to-install-yolov8\n",
    "\n",
    "https://docs.ultralytics.com/cfg/\n"
   ]
  },
  {
   "attachments": {},
   "cell_type": "markdown",
   "metadata": {},
   "source": [
    "## Test compatibility between Pytorch verison and CUDA version"
   ]
  },
  {
   "cell_type": "code",
   "execution_count": null,
   "metadata": {},
   "outputs": [],
   "source": [
    "import torch\n",
    "torch.cuda.is_available()"
   ]
  },
  {
   "cell_type": "code",
   "execution_count": null,
   "metadata": {},
   "outputs": [],
   "source": [
    "from IPython import display\n",
    "display.clear_output()\n",
    "\n",
    "import ultralytics\n",
    "ultralytics.checks()"
   ]
  },
  {
   "cell_type": "code",
   "execution_count": null,
   "metadata": {},
   "outputs": [],
   "source": [
    "from ultralytics import YOLO\n",
    "\n",
    "from IPython.display import display, Image"
   ]
  },
  {
   "cell_type": "code",
   "execution_count": null,
   "metadata": {},
   "outputs": [],
   "source": [
    "import os\n",
    "HOME = os.getcwd()\n",
    "print(HOME)"
   ]
  },
  {
   "attachments": {},
   "cell_type": "markdown",
   "metadata": {},
   "source": [
    "## Training the model\n",
    "\n",
    "Training and validation results will be saved in \"project/name\", including best and last model weights, confusion matrix, and metrics per epoch.\n",
    "\n",
    "You can select one of the following two ways to train the model"
   ]
  },
  {
   "attachments": {},
   "cell_type": "markdown",
   "metadata": {},
   "source": [
    "### Transfer learning strategy\n",
    "\n",
    "Here, we initialize the model weights obtained from pre-training on COCO dataset. Then, we fine-tune all layers of the model on training sets\n",
    "\n",
    "Pre-trained weights can be downloaded from: https://docs.ultralytics.com/datasets/detect/coco/\n",
    "\n",
    "Note:\n",
    "\n",
    "(1) define the training and validation dataset, and classes in yaml file (see the variable **data**)\n",
    "\n",
    "(2) define the output path in the variable **name**. Do not generate this file/folder, the code will do it"
   ]
  },
  {
   "cell_type": "code",
   "execution_count": null,
   "metadata": {},
   "outputs": [],
   "source": [
    "# Pretrained on COCO\n",
    "model = YOLO(f'{HOME}/checkpoints/pretrained_weights/yolov8n.pt')\n",
    "\n",
    "model.train(\n",
    "    data=\"Data/Vietnam_3_class_train.yaml\", \n",
    "    epochs=100,\n",
    "    batch=16,\n",
    "    # imgsz=(5568, 4872),\n",
    "    imgsz=640,\n",
    "    save=True,\n",
    "    project=HOME,\n",
    "    name=\"checkpoints/trained_weights/Vietnam_3_class_V4_original_HF\",  \n",
    "    plots=True\n",
    "    )\n",
    "\n",
    "\n",
    "# Note:\n",
    "# (1) use \"/\" in \"name\""
   ]
  },
  {
   "attachments": {},
   "cell_type": "markdown",
   "metadata": {},
   "source": [
    "## Tensorboard"
   ]
  },
  {
   "cell_type": "code",
   "execution_count": null,
   "metadata": {},
   "outputs": [],
   "source": [
    "# load the tensorboard\n",
    "\n",
    "%load_ext tensorboard\n",
    "\n",
    "# if the tensorboard page on VS Code is not so clear, \n",
    "# you can type this (localhost:6006) on web browser after executing this code "
   ]
  },
  {
   "cell_type": "code",
   "execution_count": null,
   "metadata": {},
   "outputs": [],
   "source": [
    "# !tensorboard --logdir \"C:\\Users\\tjian\\Desktop\\events\\SC50\" --bind_all"
   ]
  },
  {
   "attachments": {},
   "cell_type": "markdown",
   "metadata": {},
   "source": [
    "Show the confusion matrix"
   ]
  },
  {
   "cell_type": "code",
   "execution_count": null,
   "metadata": {},
   "outputs": [],
   "source": [
    "%cd {HOME}\n",
    "Image(filename=f'{HOME}/runs/detect/train/confusion_matrix.png', width=600)"
   ]
  },
  {
   "attachments": {},
   "cell_type": "markdown",
   "metadata": {},
   "source": [
    "Show the loss"
   ]
  },
  {
   "cell_type": "code",
   "execution_count": null,
   "metadata": {},
   "outputs": [],
   "source": [
    "%cd {HOME}\n",
    "Image(filename=f'{HOME}/runs/detect/train/results.png', width=600)"
   ]
  },
  {
   "attachments": {},
   "cell_type": "markdown",
   "metadata": {},
   "source": [
    "Show one predicted image"
   ]
  },
  {
   "cell_type": "code",
   "execution_count": null,
   "metadata": {},
   "outputs": [],
   "source": [
    "%cd {HOME}\n",
    "Image(filename=f'{HOME}/runs/detect/train/val_batch0_pred.jpg', width=600)"
   ]
  }
 ],
 "metadata": {
  "kernelspec": {
   "display_name": "YoloV8_DP",
   "language": "python",
   "name": "python3"
  },
  "language_info": {
   "codemirror_mode": {
    "name": "ipython",
    "version": 3
   },
   "file_extension": ".py",
   "mimetype": "text/x-python",
   "name": "python",
   "nbconvert_exporter": "python",
   "pygments_lexer": "ipython3",
   "version": "3.9.12"
  },
  "orig_nbformat": 4,
  "vscode": {
   "interpreter": {
    "hash": "f74d253e4eb56f30f9876e3386f420476fae3ba0f785ecd20d405a135215bce6"
   }
  }
 },
 "nbformat": 4,
 "nbformat_minor": 2
}
