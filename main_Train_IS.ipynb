{
 "cells": [
  {
   "attachments": {},
   "cell_type": "markdown",
   "metadata": {},
   "source": [
    "# Model training for instance segmenetation\n",
    "\n",
    "Refer to:\n",
    "https://github.com/ultralytics/ultralytics\n",
    "\n",
    "https://blog.roboflow.com/how-to-train-yolov8-on-a-custom-dataset/#how-to-install-yolov8\n",
    "\n",
    "https://docs.ultralytics.com/cfg/\n"
   ]
  },
  {
   "attachments": {},
   "cell_type": "markdown",
   "metadata": {},
   "source": [
    "## Test compatibility between Pytorch verison and CUDA version"
   ]
  },
  {
   "cell_type": "code",
   "execution_count": null,
   "metadata": {},
   "outputs": [],
   "source": [
    "import torch\n",
    "torch.cuda.is_available()"
   ]
  },
  {
   "cell_type": "code",
   "execution_count": null,
   "metadata": {},
   "outputs": [],
   "source": [
    "from IPython import display\n",
    "display.clear_output()\n",
    "\n",
    "import ultralytics\n",
    "ultralytics.checks()"
   ]
  },
  {
   "cell_type": "markdown",
   "metadata": {},
   "source": [
    "## Installation"
   ]
  },
  {
   "cell_type": "code",
   "execution_count": null,
   "metadata": {},
   "outputs": [],
   "source": [
    "from ultralytics import YOLO\n",
    "import datetime\n",
    "\n",
    "from IPython.display import display, Image\n",
    "\n",
    "import os\n",
    "HOME = os.getcwd()\n",
    "print(HOME)"
   ]
  },
  {
   "attachments": {},
   "cell_type": "markdown",
   "metadata": {},
   "source": [
    "## Training the model\n",
    "\n",
    "Training and validation results will be saved in \"project/name\", including best and last model weights, confusion matrix, and metrics per epoch.\n",
    "\n",
    "You can select one of the following two ways to train the model"
   ]
  },
  {
   "attachments": {},
   "cell_type": "markdown",
   "metadata": {},
   "source": [
    "### Transfer learning strategy\n",
    "\n",
    "Here, we initialize the model weights obtained from pre-training on COCO dataset. Then, we fine-tune all layers of the model on training sets\n",
    "\n",
    "Pre-trained weights can be downloaded from: https://docs.ultralytics.com/datasets/detect/coco/\n",
    "\n",
    "Note:\n",
    "\n",
    "(1) define the training and validation dataset, and classes in yaml file (see the variable **data**)\n",
    "\n",
    "(2) define the output path in the variable **name**. Do not generate this file/folder, the code will do it.\n",
    "\n",
    "(3) Label format should be **YOLO format** (each images with one txt file)"
   ]
  },
  {
   "cell_type": "code",
   "execution_count": null,
   "metadata": {},
   "outputs": [],
   "source": [
    "# Pretrained on COCO\n",
    "model = YOLO(f'{HOME}/checkpoints/pretrained_weights/yolov8n-seg.pt')\n",
    "\n",
    "starttime = datetime.datetime.now()\n",
    "\n",
    "model.train(\n",
    "    data=\"Data/Pollutant_2_class_train.yaml\", \n",
    "    epochs=100,\n",
    "    batch=4,\n",
    "    imgsz=640,\n",
    "    save=True,\n",
    "    project=HOME,\n",
    "    name=\"checkpoints/trained_weights/lr0.00001\",  \n",
    "    plots=True,\n",
    "    optimizer='SGD', # default is 'auto', means automatic selection based on model configuration.\n",
    "    lr0=0.00001,\n",
    "    lrf=0.01,\n",
    "    momentum=0.9,\n",
    "    weight_decay=0.0001,\n",
    "    hsv_h=0,  # data augementation\n",
    "    hsv_s=0,\n",
    "    hsv_v=0,\n",
    "    degrees=0,\n",
    "    translate=0,\n",
    "    scale= 0,\n",
    "    shear=0,\n",
    "    perspective=0,\n",
    "    flipud=0,\n",
    "    fliplr=0.5,\n",
    "    mosaic=0,\n",
    "    mixup=0,\n",
    "    auto_augment=None,  # Disable auto_augment\n",
    "    erasing=0,\n",
    "    crop_fraction= 0\n",
    "    )\n",
    "\n",
    "endtime = datetime.datetime.now()\n",
    "    \n",
    "# calculate taining time\n",
    "days = (endtime - starttime).days\n",
    "seconds = (endtime - starttime).seconds\n",
    "training_time = round((days*24*60*60+seconds)/60)\n",
    "print(\"training_time: \", training_time, \" min\")\n"
   ]
  },
  {
   "cell_type": "code",
   "execution_count": null,
   "metadata": {},
   "outputs": [],
   "source": [
    "# Note:\n",
    "# (1) use \"/\" in \"name\""
   ]
  },
  {
   "attachments": {},
   "cell_type": "markdown",
   "metadata": {},
   "source": [
    "## Tensorboard"
   ]
  },
  {
   "cell_type": "code",
   "execution_count": null,
   "metadata": {},
   "outputs": [],
   "source": [
    "# load the tensorboard\n",
    "\n",
    "%load_ext tensorboard\n",
    "\n",
    "# if the tensorboard page on VS Code is not so clear, \n",
    "# you can type this (localhost:6006) on web browser after executing this code "
   ]
  },
  {
   "cell_type": "code",
   "execution_count": null,
   "metadata": {},
   "outputs": [],
   "source": [
    "# !tensorboard --logdir \"C:\\Users\\tjian\\Desktop\\events\\SC50\" --bind_all"
   ]
  },
  {
   "attachments": {},
   "cell_type": "markdown",
   "metadata": {},
   "source": [
    "Show the confusion matrix"
   ]
  },
  {
   "cell_type": "code",
   "execution_count": null,
   "metadata": {},
   "outputs": [],
   "source": [
    "%cd {HOME}\n",
    "Image(filename=f'{HOME}/runs/detect/train/confusion_matrix.png', width=600)"
   ]
  },
  {
   "attachments": {},
   "cell_type": "markdown",
   "metadata": {},
   "source": [
    "Show the loss"
   ]
  },
  {
   "cell_type": "code",
   "execution_count": null,
   "metadata": {},
   "outputs": [],
   "source": [
    "%cd {HOME}\n",
    "Image(filename=f'{HOME}/runs/detect/train/results.png', width=600)"
   ]
  },
  {
   "attachments": {},
   "cell_type": "markdown",
   "metadata": {},
   "source": [
    "Show one predicted image"
   ]
  },
  {
   "cell_type": "code",
   "execution_count": null,
   "metadata": {},
   "outputs": [],
   "source": [
    "%cd {HOME}\n",
    "Image(filename=f'{HOME}/runs/detect/train/val_batch0_pred.jpg', width=600)"
   ]
  }
 ],
 "metadata": {
  "kernelspec": {
   "display_name": "YoloV8_DP",
   "language": "python",
   "name": "python3"
  },
  "language_info": {
   "codemirror_mode": {
    "name": "ipython",
    "version": 3
   },
   "file_extension": ".py",
   "mimetype": "text/x-python",
   "name": "python",
   "nbconvert_exporter": "python",
   "pygments_lexer": "ipython3",
   "version": "3.9.12"
  },
  "orig_nbformat": 4,
  "vscode": {
   "interpreter": {
    "hash": "f74d253e4eb56f30f9876e3386f420476fae3ba0f785ecd20d405a135215bce6"
   }
  }
 },
 "nbformat": 4,
 "nbformat_minor": 2
}
