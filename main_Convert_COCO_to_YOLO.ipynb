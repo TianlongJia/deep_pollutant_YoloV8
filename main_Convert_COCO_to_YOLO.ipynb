{
 "cells": [
  {
   "cell_type": "markdown",
   "metadata": {},
   "source": [
    "# Convert COCO format to YOLO format\n",
    "\n",
    "Note: the \"labels_dir\" is the path of folder with one or several json files, not the path of json file."
   ]
  },
  {
   "cell_type": "code",
   "execution_count": null,
   "metadata": {},
   "outputs": [],
   "source": [
    "from ultralytics.data.converter import convert_coco\n",
    "\n",
    "labels_dir = r\"/scratch/tjian/Data/annotations/\"\n",
    "save_dir = r\"/scratch/tjian/Data/annotations_txt/\""
   ]
  },
  {
   "cell_type": "markdown",
   "metadata": {},
   "source": [
    "## (1) Convert labels with mask"
   ]
  },
  {
   "cell_type": "code",
   "execution_count": null,
   "metadata": {},
   "outputs": [],
   "source": [
    "use_segments=True\n",
    "\n",
    "convert_coco(labels_dir, save_dir, use_segments)"
   ]
  },
  {
   "cell_type": "markdown",
   "metadata": {},
   "source": [
    "## (2) Convert labels with bbox"
   ]
  },
  {
   "cell_type": "code",
   "execution_count": null,
   "metadata": {},
   "outputs": [],
   "source": [
    "use_segments=False\n",
    "\n",
    "convert_coco(labels_dir, save_dir, use_segments)"
   ]
  }
 ],
 "metadata": {
  "kernelspec": {
   "display_name": "DP_YoloV8",
   "language": "python",
   "name": "python3"
  },
  "language_info": {
   "codemirror_mode": {
    "name": "ipython",
    "version": 3
   },
   "file_extension": ".py",
   "mimetype": "text/x-python",
   "name": "python",
   "nbconvert_exporter": "python",
   "pygments_lexer": "ipython3",
   "version": "3.9.12"
  }
 },
 "nbformat": 4,
 "nbformat_minor": 2
}
